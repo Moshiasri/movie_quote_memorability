{
 "cells": [
  {
   "cell_type": "markdown",
   "metadata": {},
   "source": [
    "# Cornell Movie\n",
    "This is the script written by Zach Monge corresponding to the blog post __[\"You can't handle the truth!\" Transfer learning to detect memorable movie quotes](https://medium.com/@zachmonge)__. This notebook was ran on a 15\" Windows Surface Book2 with a NVIDIA GeForce GTX 1060 GPU.<br><br>Here, I am using the Cornell Movie-Quotes Corpus, which is publicly available at http://www.cs.cornell.edu/~cristian/memorability.html. The dataset consists of memorable movie quotes and matached non-memorable quotes."
   ]
  },
  {
   "cell_type": "code",
   "execution_count": 1,
   "metadata": {},
   "outputs": [
    {
     "name": "stderr",
     "output_type": "stream",
     "text": [
      "C:\\Users\\zachm\\Anaconda3\\envs\\fastai\\lib\\site-packages\\sklearn\\ensemble\\weight_boosting.py:29: DeprecationWarning: numpy.core.umath_tests is an internal NumPy module and should not be imported. It will be removed in a future NumPy release.\n",
      "  from numpy.core.umath_tests import inner1d\n"
     ]
    }
   ],
   "source": [
    "# Importing functions\n",
    "from fastai.text import *\n",
    "import html"
   ]
  },
  {
   "cell_type": "markdown",
   "metadata": {},
   "source": [
    "# Standardizing Data\n",
    "Before training the model, putting the data into a standardized format. Here, the data will be put into a pandas dataframe with two columns: label (0=memorable, 1=non-memorable) and text (the quote). "
   ]
  },
  {
   "cell_type": "code",
   "execution_count": 2,
   "metadata": {},
   "outputs": [],
   "source": [
    "#Path to data\n",
    "PATH=Path('data/cornell_movie_quotes/')\n",
    "TEXT_PATH=PATH/'moviequotes.memorable_nonmemorable_pairs.txt'"
   ]
  },
  {
   "cell_type": "markdown",
   "metadata": {},
   "source": [
    "Reading in text, seperating by new line, and putting into numpy array."
   ]
  },
  {
   "cell_type": "code",
   "execution_count": 3,
   "metadata": {},
   "outputs": [],
   "source": [
    "# Reading in text, seperating by new line, and putting into\n",
    "# numpy array.\n",
    "text=TEXT_PATH.open('r', encoding=\"ISO-8859-1\").read()\n",
    "text=text.split('\\n')\n",
    "text = np.array(text)"
   ]
  },
  {
   "cell_type": "code",
   "execution_count": 4,
   "metadata": {},
   "outputs": [
    {
     "data": {
      "text/plain": [
       "'875814 My mom would kill me if she knew I took the Rover.'"
      ]
     },
     "execution_count": 4,
     "metadata": {},
     "output_type": "execute_result"
    }
   ],
   "source": [
    "text[2]"
   ]
  },
  {
   "cell_type": "markdown",
   "metadata": {},
   "source": [
    "Getting the indices of the memorable and non-memorable quotes, and creating seperate numpy arrays for each class."
   ]
  },
  {
   "cell_type": "code",
   "execution_count": 5,
   "metadata": {},
   "outputs": [],
   "source": [
    "mem_idx = np.arange(2, len(text)-1, step=5) # Every 5th line starting at 2\n",
    "nmem_idx = np.arange(3, len(text)-1, step=5) # Every 5th line starting at 3\n",
    "\n",
    "mem_text=text[mem_idx]\n",
    "nmem_text=text[nmem_idx]"
   ]
  },
  {
   "cell_type": "markdown",
   "metadata": {},
   "source": [
    "In front of each quote is the corresponding line number within the script. Below we remove these numbers.<br>We also add in the label numbers: 0 = memorable, 1 = non-memorable"
   ]
  },
  {
   "cell_type": "code",
   "execution_count": 6,
   "metadata": {},
   "outputs": [],
   "source": [
    "mem_text_strip = []\n",
    "mem_text_label = []\n",
    "for o in mem_text:\n",
    "    mem_text_strip.append(o.lstrip('0123456789.- ')) # Stripping number and adding to list\n",
    "    mem_text_label.append(0) # Adding in class label\n",
    "    \n",
    "nmem_text_strip = []\n",
    "nmem_text_label = []\n",
    "for o in nmem_text:\n",
    "    nmem_text_strip.append(o.lstrip('0123456789.- ')) # Stripping number and adding to list\n",
    "    mem_text_label.append(1) # Adding in class label\n",
    "    \n",
    "# Putting the lists in numpy arrays\n",
    "mem_text_strip = np.array(mem_text_strip)\n",
    "mem_text_label = np.array(mem_text_label)\n",
    "nmem_text_strip = np.array(nmem_text_strip)\n",
    "nmem_text_label = np.array(nmem_text_label)\n",
    "\n",
    "# Concatenating all of the text and labels into one array\n",
    "text = np.concatenate([mem_text_strip, nmem_text_strip])\n",
    "label = np.concatenate([mem_text_label, nmem_text_label])"
   ]
  },
  {
   "cell_type": "markdown",
   "metadata": {},
   "source": [
    "Randomizing order of text/labels"
   ]
  },
  {
   "cell_type": "code",
   "execution_count": 7,
   "metadata": {},
   "outputs": [],
   "source": [
    "# Randomize everything\n",
    "np.random.seed(42)\n",
    "ran_idx = np.random.permutation(len(text))\n",
    "\n",
    "text_rand = text[ran_idx]\n",
    "label = label[ran_idx]"
   ]
  },
  {
   "cell_type": "markdown",
   "metadata": {},
   "source": [
    "Putting labels and text into pandas dataframe"
   ]
  },
  {
   "cell_type": "code",
   "execution_count": 8,
   "metadata": {},
   "outputs": [],
   "source": [
    "col_names = ['label', 'text']\n",
    "df = pd.DataFrame({'label':np.int64(label), 'text':text_rand}, columns=col_names)"
   ]
  },
  {
   "cell_type": "code",
   "execution_count": 9,
   "metadata": {},
   "outputs": [],
   "source": [
    "df.to_csv(PATH/'mem_nmem.csv', index=False)"
   ]
  },
  {
   "cell_type": "code",
   "execution_count": 10,
   "metadata": {},
   "outputs": [],
   "source": [
    "df = pd.read_csv(PATH/'mem_nmem.csv')"
   ]
  },
  {
   "cell_type": "code",
   "execution_count": 11,
   "metadata": {},
   "outputs": [
    {
     "data": {
      "text/html": [
       "<div>\n",
       "<style scoped>\n",
       "    .dataframe tbody tr th:only-of-type {\n",
       "        vertical-align: middle;\n",
       "    }\n",
       "\n",
       "    .dataframe tbody tr th {\n",
       "        vertical-align: top;\n",
       "    }\n",
       "\n",
       "    .dataframe thead th {\n",
       "        text-align: right;\n",
       "    }\n",
       "</style>\n",
       "<table border=\"1\" class=\"dataframe\">\n",
       "  <thead>\n",
       "    <tr style=\"text-align: right;\">\n",
       "      <th></th>\n",
       "      <th>label</th>\n",
       "      <th>text</th>\n",
       "    </tr>\n",
       "  </thead>\n",
       "  <tbody>\n",
       "    <tr>\n",
       "      <th>0</th>\n",
       "      <td>1</td>\n",
       "      <td>Buddy, this is a private party.</td>\n",
       "    </tr>\n",
       "    <tr>\n",
       "      <th>1</th>\n",
       "      <td>1</td>\n",
       "      <td>So we'll need you to go home and bring in ever...</td>\n",
       "    </tr>\n",
       "    <tr>\n",
       "      <th>2</th>\n",
       "      <td>0</td>\n",
       "      <td>Welcome to the future... brother.</td>\n",
       "    </tr>\n",
       "    <tr>\n",
       "      <th>3</th>\n",
       "      <td>0</td>\n",
       "      <td>My enemy's enemy is my friend, no? So, come in...</td>\n",
       "    </tr>\n",
       "    <tr>\n",
       "      <th>4</th>\n",
       "      <td>1</td>\n",
       "      <td>What's happiness to you, David?</td>\n",
       "    </tr>\n",
       "  </tbody>\n",
       "</table>\n",
       "</div>"
      ],
      "text/plain": [
       "   label                                               text\n",
       "0      1                    Buddy, this is a private party.\n",
       "1      1  So we'll need you to go home and bring in ever...\n",
       "2      0                  Welcome to the future... brother.\n",
       "3      0  My enemy's enemy is my friend, no? So, come in...\n",
       "4      1                    What's happiness to you, David?"
      ]
     },
     "execution_count": 11,
     "metadata": {},
     "output_type": "execute_result"
    }
   ],
   "source": [
    "df.head()"
   ]
  },
  {
   "cell_type": "markdown",
   "metadata": {},
   "source": [
    "# Preparing Language Model\n",
    "Before creating classifier, will train a language model, which will predict the next word in a sequence"
   ]
  },
  {
   "cell_type": "code",
   "execution_count": 12,
   "metadata": {},
   "outputs": [],
   "source": [
    "# Path to data\n",
    "LM_PATH = PATH/'LM/'\n",
    "LM_PATH.mkdir(exist_ok=True)"
   ]
  },
  {
   "cell_type": "markdown",
   "metadata": {},
   "source": [
    "Creating training and validation sets for language model"
   ]
  },
  {
   "cell_type": "code",
   "execution_count": 13,
   "metadata": {},
   "outputs": [],
   "source": [
    "# Validation set is 10% of total\n",
    "X_train, X_val, y_train, y_val=sklearn.model_selection.train_test_split(\n",
    "    df['text'].values, df['label'].values, test_size = 0.1, random_state=42)\n",
    "\n",
    "# Putting into pandas dataframe\n",
    "LM_trn_df = pd.DataFrame({'label':y_train, 'text':X_train},columns=col_names)\n",
    "LM_val_df = pd.DataFrame({'label':y_val, 'text':X_val},columns=col_names)\n",
    "\n",
    "# Setting label to 0 since we don't need to know the label for the language model\n",
    "LM_trn_df['label']=0\n",
    "LM_val_df['label']=0"
   ]
  },
  {
   "cell_type": "code",
   "execution_count": 14,
   "metadata": {},
   "outputs": [],
   "source": [
    "# Saving to csv\n",
    "LM_trn_df.to_csv(LM_PATH/'LM_trn.csv',index=False, header=False)\n",
    "LM_val_df.to_csv(LM_PATH/'LM_val.csv',index=False, header=False)"
   ]
  },
  {
   "cell_type": "markdown",
   "metadata": {},
   "source": [
    "Reading in the pandads dataframe in chunks. This is a pretty small dataset so it doesn't help that much here, but this can greatly speed up the tokenization process in larger datasets."
   ]
  },
  {
   "cell_type": "code",
   "execution_count": 15,
   "metadata": {},
   "outputs": [],
   "source": [
    "chunksize=400\n",
    "\n",
    "LM_trn_df = pd.read_csv(LM_PATH/'LM_trn.csv', chunksize=chunksize, header=None)\n",
    "LM_val_df = pd.read_csv(LM_PATH/'LM_val.csv', chunksize=chunksize, header=None)"
   ]
  },
  {
   "cell_type": "markdown",
   "metadata": {},
   "source": [
    "Below we are tokenizing the text. We are using the fastai tokenizer which esentially uses spaCy. The code below was taken from the fastai course."
   ]
  },
  {
   "cell_type": "code",
   "execution_count": 16,
   "metadata": {},
   "outputs": [],
   "source": [
    "BOS = 'xbos'  # beginning-of-sentence tag\n",
    "FLD = 'xfld'  # data field tag\n",
    "\n",
    "re1 = re.compile(r'  +')\n",
    "\n",
    "# These are fixes for changes commonly found in text\n",
    "def fixup(x):\n",
    "    x = x.replace('#39;', \"'\").replace('amp;', '&').replace('#146;', \"'\").replace(\n",
    "        'nbsp;', ' ').replace('#36;', '$').replace('\\\\n', \"\\n\").replace('quot;', \"'\").replace(\n",
    "        '<br />', \"\\n\").replace('\\\\\"', '\"').replace('<unk>','u_n').replace(' @.@ ','.').replace(\n",
    "        ' @-@ ','-').replace('\\\\', ' \\\\ ')\n",
    "    return re1.sub(' ', html.unescape(x))\n",
    "\n",
    "# Applying the tokenizer\n",
    "def get_texts(df, n_lbls=1):\n",
    "    labels = df.iloc[:,range(n_lbls)].values.astype(np.int64)\n",
    "    texts = f'\\n{BOS} {FLD} 1 ' + df[n_lbls].astype(str)\n",
    "    for i in range(n_lbls+1, len(df.columns)): texts += f' {FLD} {i-n_lbls} ' + df[i].astype(str)\n",
    "    texts = list(texts.apply(fixup).values)\n",
    "    tok = Tokenizer().proc_all_mp(partition_by_cores(texts))\n",
    "    return tok, list(labels)\n",
    "\n",
    "# Function to be applied to pandas dataframe to tokenize text\n",
    "def get_all(df, n_lbls):\n",
    "    tok, labels = [], []\n",
    "    for i, r in enumerate(df):\n",
    "        #print(i)\n",
    "        tok_, labels_ = get_texts(r, n_lbls)\n",
    "        tok += tok_;\n",
    "        labels += labels_\n",
    "    return tok, labels"
   ]
  },
  {
   "cell_type": "code",
   "execution_count": 17,
   "metadata": {},
   "outputs": [],
   "source": [
    "trn_tok, trn_label = get_all(LM_trn_df,1)\n",
    "val_tok, val_label = get_all(LM_val_df,1)"
   ]
  },
  {
   "cell_type": "code",
   "execution_count": 18,
   "metadata": {},
   "outputs": [
    {
     "data": {
      "text/plain": [
       "['\\n', 'xbos', 'xfld', '1', 'bumpy']"
      ]
     },
     "execution_count": 18,
     "metadata": {},
     "output_type": "execute_result"
    }
   ],
   "source": [
    "trn_tok[0][:5]"
   ]
  },
  {
   "cell_type": "markdown",
   "metadata": {},
   "source": [
    "Calculating the most frequent tokens. We are only going to use tokens that appear more than twice."
   ]
  },
  {
   "cell_type": "code",
   "execution_count": 19,
   "metadata": {},
   "outputs": [
    {
     "data": {
      "text/plain": [
       "[('1', 3959),\n",
       " ('\\n', 3954),\n",
       " ('xbos', 3954),\n",
       " ('xfld', 3954),\n",
       " ('.', 3597),\n",
       " (',', 2407),\n",
       " ('you', 1798),\n",
       " ('i', 1779),\n",
       " ('the', 1517),\n",
       " ('a', 1176),\n",
       " ('to', 1144),\n",
       " ('?', 767),\n",
       " (\"'s\", 756),\n",
       " ('and', 742),\n",
       " ('of', 678),\n",
       " ('it', 671),\n",
       " (\"n't\", 663),\n",
       " ('that', 566),\n",
       " ('in', 537),\n",
       " ('...', 533),\n",
       " ('do', 517),\n",
       " ('!', 498),\n",
       " ('is', 451),\n",
       " ('me', 419),\n",
       " ('we', 387)]"
      ]
     },
     "execution_count": 19,
     "metadata": {},
     "output_type": "execute_result"
    }
   ],
   "source": [
    "freq=Counter(p for o in trn_tok for p in o)\n",
    "freq.most_common(25)"
   ]
  },
  {
   "cell_type": "markdown",
   "metadata": {},
   "source": [
    "Creating inter-to-string array. Again, only want tokens that appear at least twice"
   ]
  },
  {
   "cell_type": "code",
   "execution_count": 20,
   "metadata": {},
   "outputs": [],
   "source": [
    "min_freq = 2\n",
    "itos=[o for o,c in freq.most_common() if c>min_freq]\n",
    "itos.insert(0, '_pad_') # Adding in padding token\n",
    "itos.insert(0, '_unk_') # Adding in token to represent unknown tokens"
   ]
  },
  {
   "cell_type": "markdown",
   "metadata": {},
   "source": [
    "Creating mapping in the opposite direction: string-to-integer. Using a deafultdict so later on we can set unknown tokens to the unknown toke (number 0)."
   ]
  },
  {
   "cell_type": "code",
   "execution_count": 21,
   "metadata": {},
   "outputs": [],
   "source": [
    "stoi = collections.defaultdict(lambda:0, {v:k for k,v in enumerate(itos)})\n",
    "\n",
    "# Taking string tokens and converting them into integers\n",
    "trn_lm = [[stoi[o] for o in p]for p in trn_tok] # training tokens\n",
    "val_lm = [[stoi[o] for o in p]for p in val_tok] # validations tokens"
   ]
  },
  {
   "cell_type": "markdown",
   "metadata": {},
   "source": [
    "Saving language model and the itos array for future use."
   ]
  },
  {
   "cell_type": "code",
   "execution_count": 22,
   "metadata": {},
   "outputs": [],
   "source": [
    "(LM_PATH/'tmp').mkdir(exist_ok = True)\n",
    "np.save(LM_PATH/'tmp'/'trn_ids.npy', trn_lm)\n",
    "np.save(LM_PATH/'tmp'/'val_ids.npy', val_lm)\n",
    "pickle.dump(itos, open(LM_PATH/'tmp'/'itos.pkl', 'wb'))"
   ]
  },
  {
   "cell_type": "code",
   "execution_count": 24,
   "metadata": {},
   "outputs": [],
   "source": [
    "trn_lm = np.load(LM_PATH/'tmp'/'trn_ids.npy')\n",
    "val_lm = np.load(LM_PATH/'tmp'/'val_ids.npy')\n",
    "itos = pickle.load(open(LM_PATH/'tmp'/'itos.pkl', 'rb'))"
   ]
  },
  {
   "cell_type": "code",
   "execution_count": 23,
   "metadata": {},
   "outputs": [
    {
     "data": {
      "text/plain": [
       "1545"
      ]
     },
     "execution_count": 23,
     "metadata": {},
     "output_type": "execute_result"
    }
   ],
   "source": [
    "# Size of vocab\n",
    "vs = len(itos)\n",
    "vs"
   ]
  },
  {
   "cell_type": "markdown",
   "metadata": {},
   "source": [
    "# Wikitext103 conversion\n",
    "We are going to finetune a language model that was already pretrained on a subset of Wikipedia. This pretrained model is publicly available at http://files.fast.ai/models/wt103/\n",
    "The details of the model architecture and training are available in this paper -- [ULMFiT](https://arxiv.org/abs/1801.06146)\n",
    "<br><br> We need to use the same parameteters as the pretrained model"
   ]
  },
  {
   "cell_type": "code",
   "execution_count": 25,
   "metadata": {},
   "outputs": [],
   "source": [
    "# Model parameters\n",
    "em_sz,nh,nl = 400,1150,3 # embedding size, number of hidden activations, number of layers\n",
    "\n",
    "# Path to pretrained langauge model\n",
    "PRE_PATH = PATH/'models'/'wt103'\n",
    "PRE_LM_PATH = PRE_PATH/'fwd_wt103.h5'\n",
    "\n",
    "# Loading in pretrained model weights\n",
    "wgts = torch.load(PRE_LM_PATH, map_location=lambda storage, loc: storage)"
   ]
  },
  {
   "cell_type": "markdown",
   "metadata": {},
   "source": [
    "It's possible that there are tokens within the movie quotation library that are not contained in the Wikipedia vocab. For those tokens we are going to assign the embedding weights to be the average of the Wikipedia embedding weights"
   ]
  },
  {
   "cell_type": "code",
   "execution_count": 26,
   "metadata": {},
   "outputs": [],
   "source": [
    "enc_wgts=to_np(wgts['0.encoder.weight']) # embedding weights\n",
    "row_miss = enc_wgts.mean(0)"
   ]
  },
  {
   "cell_type": "markdown",
   "metadata": {},
   "source": [
    "Loading in the intger-to-string array for the pretrained model and creating a string-to-integer dictionary"
   ]
  },
  {
   "cell_type": "code",
   "execution_count": 27,
   "metadata": {},
   "outputs": [],
   "source": [
    "itos2 = pickle.load((PRE_PATH/'itos_wt103.pkl').open('rb'))\n",
    "\n",
    "# Using collection dictionary so can later assign movie tokens that are not found in the Wikipedia vocab\n",
    "stoi2 = collections.defaultdict(lambda: -1, {v:k for k,v in enumerate(itos2)}) "
   ]
  },
  {
   "cell_type": "markdown",
   "metadata": {},
   "source": [
    "Creating array in which the new weights will be assigned. This is size vocab size by embedding size"
   ]
  },
  {
   "cell_type": "code",
   "execution_count": 28,
   "metadata": {},
   "outputs": [],
   "source": [
    "new_w = np.zeros((vs,em_sz), dtype=np.float32)"
   ]
  },
  {
   "cell_type": "markdown",
   "metadata": {},
   "source": [
    "Getting embedding weights from Wikipedia model. Again, missing rows get the average"
   ]
  },
  {
   "cell_type": "code",
   "execution_count": 29,
   "metadata": {},
   "outputs": [],
   "source": [
    "for i,j in enumerate(itos):\n",
    "    r = stoi2[j]\n",
    "    new_w[i] = enc_wgts[r] if r>0 else row_miss"
   ]
  },
  {
   "cell_type": "markdown",
   "metadata": {},
   "source": [
    "Copying in new embedding weights for our vocab in the embedding encoder and decoder. The embeddings for the encoder and decoder are exactly the same as this has previously been shown to help with training."
   ]
  },
  {
   "cell_type": "code",
   "execution_count": 30,
   "metadata": {},
   "outputs": [],
   "source": [
    "wgts['0.encoder.weight'] = T(new_w)\n",
    "wgts['0.encoder_with_dropout.embed.weight'] = T(np.copy(new_w))\n",
    "wgts['1.decoder.weight'] = T(np.copy(new_w))"
   ]
  },
  {
   "cell_type": "markdown",
   "metadata": {},
   "source": [
    "# Training language model"
   ]
  },
  {
   "cell_type": "markdown",
   "metadata": {},
   "source": [
    "Finally almost ready to start training. Even though we already have a pretrained language model, this model was trained on Wikipedia which may be different from our corpus of text. So we are going to finetune this model on the movie quotes dataset. I actually found that this step did not help improve the classifier accuracy on whether the quote was memorable or not. This is likely because our vocabulary size was very small (see below). But I am including this step for your reference.<br><br>We specify a few parameters below"
   ]
  },
  {
   "cell_type": "code",
   "execution_count": 31,
   "metadata": {},
   "outputs": [],
   "source": [
    "wd = 1e-7 # weight decay\n",
    "bptt = 30 # backpropagation through time; make as large as your memory can handle\n",
    "bs = 52 # batch size\n",
    "opt_fn = partial(optim.Adam, betas=(0.8, 0.99)) # model optimizer"
   ]
  },
  {
   "cell_type": "markdown",
   "metadata": {},
   "source": [
    "Putting data into a data loader"
   ]
  },
  {
   "cell_type": "code",
   "execution_count": 32,
   "metadata": {},
   "outputs": [],
   "source": [
    "trn_dl = LanguageModelLoader(np.concatenate(trn_lm), bs, bptt)\n",
    "val_dl = LanguageModelLoader(np.concatenate(val_lm), bs, bptt)\n",
    "md = LanguageModelData(PATH, 1, vs, trn_dl, val_dl, bs=bs, bptt=bptt)"
   ]
  },
  {
   "cell_type": "markdown",
   "metadata": {},
   "source": [
    "Creating learner which is the model."
   ]
  },
  {
   "cell_type": "code",
   "execution_count": 33,
   "metadata": {},
   "outputs": [],
   "source": [
    "# I found that this model required a somewhat high amount of dropout, likely because the dataset is small\n",
    "drops = np.array([0.25, 0.1, 0.2, 0.02, 0.15])*2.0\n",
    "learner = md.get_model(opt_fn, em_sz, nh, nl,\n",
    "                      dropouti=drops[0], dropout=drops[1], wdrop=drops[2], dropoute=drops[3], dropouth=drops[4])\n",
    "\n",
    "learner.metrics = [accuracy] # So we can view the accuracy during training\n",
    "learner.freeze_to(-1) # We will first only train the embedding layers\n",
    "learner.model.load_state_dict(wgts) # Loading in pretrained weights"
   ]
  },
  {
   "cell_type": "markdown",
   "metadata": {},
   "source": [
    "Before training, we need to choose the learning rate, so we use the lr_find function"
   ]
  },
  {
   "cell_type": "code",
   "execution_count": 35,
   "metadata": {},
   "outputs": [
    {
     "data": {
      "application/vnd.jupyter.widget-view+json": {
       "model_id": "e5b57d77476445ea8a8128365912ec3c",
       "version_major": 2,
       "version_minor": 0
      },
      "text/plain": [
       "HBox(children=(IntProgress(value=0, description='Epoch', max=1), HTML(value='')))"
      ]
     },
     "metadata": {},
     "output_type": "display_data"
    },
    {
     "name": "stdout",
     "output_type": "stream",
     "text": [
      "epoch      trn_loss   val_loss   accuracy                                                                              \n",
      "    0      13.257772  97.052884  0.06257   \n",
      "\n"
     ]
    }
   ],
   "source": [
    "# Need to run this twice to get it to work for some reason...\n",
    "learner.lr_find()"
   ]
  },
  {
   "cell_type": "code",
   "execution_count": 36,
   "metadata": {},
   "outputs": [
    {
     "data": {
      "image/png": "[encoded data removed]",
      "text/plain": [
       "<Figure size 432x288 with 1 Axes>"
      ]
     },
     "metadata": {
      "needs_background": "light"
     },
     "output_type": "display_data"
    }
   ],
   "source": [
    "learner.sched.plot()"
   ]
  },
  {
   "cell_type": "markdown",
   "metadata": {},
   "source": [
    "We'll choose a learning rate of 1e-2 since the loss is still dropping at this point.<br> Now lets start training!"
   ]
  },
  {
   "cell_type": "code",
   "execution_count": 37,
   "metadata": {},
   "outputs": [
    {
     "data": {
      "application/vnd.jupyter.widget-view+json": {
       "model_id": "93de91d2b2944126ad5151aac4113723",
       "version_major": 2,
       "version_minor": 0
      },
      "text/plain": [
       "HBox(children=(IntProgress(value=0, description='Epoch', max=1), HTML(value='')))"
      ]
     },
     "metadata": {},
     "output_type": "display_data"
    },
    {
     "name": "stdout",
     "output_type": "stream",
     "text": [
      "epoch      trn_loss   val_loss   accuracy                                                                              \n",
      "    0      5.452861   4.000355   0.262585  \n",
      "\n"
     ]
    },
    {
     "data": {
      "text/plain": [
       "[4.000354826450348, 0.262584924697876]"
      ]
     },
     "execution_count": 37,
     "metadata": {},
     "output_type": "execute_result"
    }
   ],
   "source": [
    "lr = 1e-2\n",
    "learner.fit(lr, 1, wds=wd, use_clr=(32,2), cycle_len=1)"
   ]
  },
  {
   "cell_type": "markdown",
   "metadata": {},
   "source": [
    "Just to note we are using slanted triangular learning rates (see the [ULMFiT paper](https://arxiv.org/abs/1801.06146) for an explanation), which is specified with 'use_clr'."
   ]
  },
  {
   "cell_type": "code",
   "execution_count": 38,
   "metadata": {},
   "outputs": [
    {
     "data": {
      "image/png": "[encoded data removed]",
      "text/plain": [
       "<Figure size 432x288 with 1 Axes>"
      ]
     },
     "metadata": {
      "needs_background": "light"
     },
     "output_type": "display_data"
    }
   ],
   "source": [
    "learner.sched.plot_lr()"
   ]
  },
  {
   "cell_type": "code",
   "execution_count": 39,
   "metadata": {},
   "outputs": [],
   "source": [
    "# Saving model\n",
    "learner.save('lm0')"
   ]
  },
  {
   "cell_type": "code",
   "execution_count": 40,
   "metadata": {},
   "outputs": [],
   "source": [
    "# Loading model\n",
    "learner.load('lm0')"
   ]
  },
  {
   "cell_type": "markdown",
   "metadata": {},
   "source": [
    "Now lets unfreeze all of the layers"
   ]
  },
  {
   "cell_type": "code",
   "execution_count": 41,
   "metadata": {},
   "outputs": [],
   "source": [
    "learner.unfreeze()"
   ]
  },
  {
   "cell_type": "code",
   "execution_count": 42,
   "metadata": {},
   "outputs": [
    {
     "data": {
      "application/vnd.jupyter.widget-view+json": {
       "model_id": "1e739a9b8a834553b5580a7783aa8415",
       "version_major": 2,
       "version_minor": 0
      },
      "text/plain": [
       "HBox(children=(IntProgress(value=0, description='Epoch', max=1), HTML(value='')))"
      ]
     },
     "metadata": {},
     "output_type": "display_data"
    },
    {
     "name": "stdout",
     "output_type": "stream",
     "text": [
      " 95%|███████████████████████████████████████████████████████████████████▊   | 42/44 [00:06<00:00,  5.98it/s, loss=14.5]\n",
      "                                                                                                                       \r"
     ]
    }
   ],
   "source": [
    "learner.lr_find()"
   ]
  },
  {
   "cell_type": "code",
   "execution_count": 43,
   "metadata": {},
   "outputs": [
    {
     "data": {
      "image/png": "[encoded data removed]",
      "text/plain": [
       "<Figure size 432x288 with 1 Axes>"
      ]
     },
     "metadata": {
      "needs_background": "light"
     },
     "output_type": "display_data"
    }
   ],
   "source": [
    "learner.sched.plot()"
   ]
  },
  {
   "cell_type": "code",
   "execution_count": 44,
   "metadata": {},
   "outputs": [
    {
     "data": {
      "application/vnd.jupyter.widget-view+json": {
       "model_id": "e8e878583b1845d3b7e4f893fed886e5",
       "version_major": 2,
       "version_minor": 0
      },
      "text/plain": [
       "HBox(children=(IntProgress(value=0, description='Epoch', max=15), HTML(value='')))"
      ]
     },
     "metadata": {},
     "output_type": "display_data"
    },
    {
     "name": "stdout",
     "output_type": "stream",
     "text": [
      "epoch      trn_loss   val_loss   accuracy                                                                              \n",
      "    0      4.12872    3.209913   0.389636  \n",
      "    1      3.714757   3.08553    0.394711                                                                              \n",
      "    2      3.523358   2.999937   0.409712                                                                              \n",
      "    3      3.418595   2.974704   0.416637                                                                              \n",
      "    4      3.331541   2.861068   0.431087                                                                              \n",
      "    5      3.269611   2.943939   0.417366                                                                              \n",
      "    6      3.217839   2.929552   0.422634                                                                              \n",
      "    7      3.178505   2.913657   0.425362                                                                              \n",
      "    8      3.148917   2.924957   0.422685                                                                              \n",
      "    9      3.127516   2.916953   0.427085                                                                              \n",
      "    10     3.09411    2.900594   0.429455                                                                              \n",
      "    11     3.072136   2.887143   0.431118                                                                              \n",
      "    12     3.053954   2.910608   0.4253                                                                                \n",
      "    13     3.040933   2.915708   0.424903                                                                              \n",
      "    14     3.035237   2.90506    0.426041                                                                              \n",
      "\n"
     ]
    },
    {
     "data": {
      "text/plain": [
       "[2.9050599336624146, 0.4260410964488983]"
      ]
     },
     "execution_count": 44,
     "metadata": {},
     "output_type": "execute_result"
    }
   ],
   "source": [
    "# Making the learning rate a little bit smaller\n",
    "learner.fit(lr/10, 1, wds=wd, use_clr=(20,10), cycle_len=15)"
   ]
  },
  {
   "cell_type": "code",
   "execution_count": 45,
   "metadata": {},
   "outputs": [
    {
     "data": {
      "image/png": "[encoded data removed]",
      "text/plain": [
       "<Figure size 432x288 with 1 Axes>"
      ]
     },
     "metadata": {
      "needs_background": "light"
     },
     "output_type": "display_data"
    }
   ],
   "source": [
    "learner.sched.plot_lr()"
   ]
  },
  {
   "cell_type": "code",
   "execution_count": 46,
   "metadata": {},
   "outputs": [
    {
     "data": {
      "application/vnd.jupyter.widget-view+json": {
       "model_id": "8124345970a340bf9ee14e7b8c027891",
       "version_major": 2,
       "version_minor": 0
      },
      "text/plain": [
       "HBox(children=(IntProgress(value=0, description='Epoch', max=10), HTML(value='')))"
      ]
     },
     "metadata": {},
     "output_type": "display_data"
    },
    {
     "name": "stdout",
     "output_type": "stream",
     "text": [
      "epoch      trn_loss   val_loss   accuracy                                                                              \n",
      "    0      3.03473    2.925125   0.425038  \n",
      "    1      3.025429   2.902944   0.426554                                                                              \n",
      "    2      3.00678    2.913681   0.42629                                                                               \n",
      "    3      2.992722   2.914043   0.429837                                                                              \n",
      "    4      2.949878   2.919927   0.422915                                                                              \n",
      "    5      2.92893    2.908112   0.427838                                                                              \n",
      "    6      2.885401   2.902589   0.433242                                                                              \n",
      "    7      2.867787   2.904463   0.433533                                                                              \n",
      "    8      2.850356   2.914875   0.42971                                                                               \n",
      "    9      2.832914   2.881806   0.436072                                                                              \n",
      "\n"
     ]
    },
    {
     "data": {
      "text/plain": [
       "[2.8818057775497437, 0.4360722750425339]"
      ]
     },
     "execution_count": 46,
     "metadata": {},
     "output_type": "execute_result"
    }
   ],
   "source": [
    "learner.fit(lr/10, 1, wds=wd, use_clr=(20,10), cycle_len=10)"
   ]
  },
  {
   "cell_type": "code",
   "execution_count": 48,
   "metadata": {},
   "outputs": [],
   "source": [
    "learner.save('lm1')"
   ]
  },
  {
   "cell_type": "code",
   "execution_count": 47,
   "metadata": {},
   "outputs": [],
   "source": [
    "learner.save_encoder('lm1_enc')"
   ]
  },
  {
   "cell_type": "code",
   "execution_count": 49,
   "metadata": {},
   "outputs": [],
   "source": [
    "learner.load('lm1')"
   ]
  },
  {
   "cell_type": "markdown",
   "metadata": {},
   "source": [
    "# Classifier tokens\n",
    "Now that we have finetuned our model, we can start preparing it to detect whether a movie quote is memorable or note. First need to create tokens for the classifier"
   ]
  },
  {
   "cell_type": "code",
   "execution_count": 50,
   "metadata": {},
   "outputs": [],
   "source": [
    "CLASS_trn_df = pd.DataFrame({'label':y_train, 'text':X_train},columns=col_names)\n",
    "CLASS_val_df = pd.DataFrame({'label':y_val, 'text':X_val},columns=col_names)"
   ]
  },
  {
   "cell_type": "code",
   "execution_count": 51,
   "metadata": {},
   "outputs": [],
   "source": [
    "CLASS_PATH = PATH/'class'\n",
    "CLASS_PATH.mkdir(exist_ok=True)"
   ]
  },
  {
   "cell_type": "code",
   "execution_count": 52,
   "metadata": {},
   "outputs": [],
   "source": [
    "# Taken from fastai course\n",
    "\n",
    "re1 = re.compile(r'  +')\n",
    "\n",
    "def fixup(x):\n",
    "    x = x.replace('#39;', \"'\").replace('amp;', '&').replace('#146;', \"'\").replace(\n",
    "        'nbsp;', ' ').replace('#36;', '$').replace('\\\\n', \"\\n\").replace('quot;', \"'\").replace(\n",
    "        '<br />', \"\\n\").replace('\\\\\"', '\"').replace('<unk>','u_n').replace(' @.@ ','.').replace(\n",
    "        ' @-@ ','-').replace('\\\\', ' \\\\ ')\n",
    "    return re1.sub(' ', html.unescape(x))\n",
    "\n",
    "def get_texts(df, n_lbls=1):\n",
    "    labels = df.iloc[:,range(n_lbls)].values.astype(np.int64)\n",
    "    texts = f'\\n{BOS} {FLD} 1 ' + df[n_lbls].astype(str)\n",
    "    for i in range(n_lbls+1, len(df.columns)): texts += f' {FLD} {i-n_lbls} ' + df[i].astype(str)\n",
    "    texts = list(texts.apply(fixup).values)\n",
    "\n",
    "   # tok = Tokenizer().proc_all_mp(partition_by_cores(texts))\n",
    "    tok = Tokenizer.proc_all(texts,'en')\n",
    "    return tok, list(labels)\n",
    "\n",
    "def get_all(df, n_lbls):\n",
    "    tok, labels = [], []\n",
    "    for i, r in enumerate(df):\n",
    "        #print(i)\n",
    "        tok_, labels_ = get_texts(r, n_lbls)\n",
    "        tok += tok_;\n",
    "        labels += labels_\n",
    "    return tok, labels"
   ]
  },
  {
   "cell_type": "code",
   "execution_count": 53,
   "metadata": {},
   "outputs": [],
   "source": [
    "CLASS_trn_df.to_csv(CLASS_PATH/'class_trn.csv', header=False, index=False)\n",
    "CLASS_val_df.to_csv(CLASS_PATH/'class_val.csv', header=False, index=False)"
   ]
  },
  {
   "cell_type": "code",
   "execution_count": 54,
   "metadata": {},
   "outputs": [],
   "source": [
    "chunksize=400"
   ]
  },
  {
   "cell_type": "code",
   "execution_count": 55,
   "metadata": {},
   "outputs": [],
   "source": [
    "CLASS_trn_df = pd.read_csv(CLASS_PATH/'class_trn.csv', header=None, chunksize=chunksize)\n",
    "CLASS_val_df = pd.read_csv(CLASS_PATH/'class_val.csv', header=None, chunksize=chunksize)"
   ]
  },
  {
   "cell_type": "code",
   "execution_count": 56,
   "metadata": {},
   "outputs": [],
   "source": [
    "tok_class_trn, label_class_trn = get_all(CLASS_trn_df, 1)\n",
    "tok_class_val, label_class_val = get_all(CLASS_val_df, 1)"
   ]
  },
  {
   "cell_type": "code",
   "execution_count": 57,
   "metadata": {},
   "outputs": [],
   "source": [
    "(CLASS_PATH/'tmp').mkdir(exist_ok=True)"
   ]
  },
  {
   "cell_type": "code",
   "execution_count": 58,
   "metadata": {},
   "outputs": [],
   "source": [
    "np.save(CLASS_PATH/'tmp'/'tok_class_trn.npy',tok_class_trn)\n",
    "np.save(CLASS_PATH/'tmp'/'tok_class_val.npy',tok_class_val)\n",
    "\n",
    "np.save(CLASS_PATH/'tmp'/'label_class_trn.npy',label_class_trn)\n",
    "np.save(CLASS_PATH/'tmp'/'label_class_val.npy',label_class_val)"
   ]
  },
  {
   "cell_type": "code",
   "execution_count": 59,
   "metadata": {},
   "outputs": [],
   "source": [
    "tok_class_trn = np.load(CLASS_PATH/'tmp'/'tok_class_trn.npy')\n",
    "tok_class_val = np.load(CLASS_PATH/'tmp'/'tok_class_val.npy')\n",
    "\n",
    "label_class_trn = np.load(CLASS_PATH/'tmp'/'label_class_trn.npy')\n",
    "label_class_val = np.load(CLASS_PATH/'tmp'/'label_class_val.npy')"
   ]
  },
  {
   "cell_type": "code",
   "execution_count": 60,
   "metadata": {},
   "outputs": [],
   "source": [
    "#Loading in itos from language model\n",
    "itos = pickle.load(open(LM_PATH/'tmp'/'itos.pkl', 'rb'))\n",
    "stoi = collections.defaultdict(lambda:0, {v:k for k,v in enumerate(itos)})"
   ]
  },
  {
   "cell_type": "code",
   "execution_count": 61,
   "metadata": {},
   "outputs": [],
   "source": [
    "trn_class = [[stoi[o] for o in p] for p in tok_class_trn]\n",
    "val_class = [[stoi[o] for o in p] for p in tok_class_val]"
   ]
  },
  {
   "cell_type": "code",
   "execution_count": 62,
   "metadata": {},
   "outputs": [],
   "source": [
    "np.save(CLASS_PATH/'tmp'/'trn_ids.npy', trn_class)\n",
    "np.save(CLASS_PATH/'tmp'/'val_ids.npy', val_class)"
   ]
  },
  {
   "cell_type": "markdown",
   "metadata": {},
   "source": [
    "# Training the classifier\n",
    "Now that we've tokenzied the text, we can start training the classifier"
   ]
  },
  {
   "cell_type": "code",
   "execution_count": 81,
   "metadata": {},
   "outputs": [],
   "source": [
    "# Loading in the ids and corresponding labels\n",
    "trn_class = np.load(CLASS_PATH/'tmp'/'trn_ids.npy')\n",
    "val_class = np.load(CLASS_PATH/'tmp'/'val_ids.npy')\n",
    "\n",
    "label_class_trn = np.squeeze(np.load(CLASS_PATH/'tmp'/'label_class_trn.npy'))\n",
    "label_class_val = np.squeeze(np.load(CLASS_PATH/'tmp'/'label_class_val.npy'))"
   ]
  },
  {
   "cell_type": "code",
   "execution_count": 82,
   "metadata": {},
   "outputs": [],
   "source": [
    "wd = 1e-7 # weight decay\n",
    "bptt = 30 # backpropagation through time\n",
    "bs = 48 # batch size\n",
    "opt_fn = partial(optim.Adam, betas=(0.8, 0.99)) # optimizer function\n",
    "vs = len(itos) # vocab size\n",
    "\n",
    "# Model parameters\n",
    "em_sz,nh,nl = 400,1150,3"
   ]
  },
  {
   "cell_type": "code",
   "execution_count": 83,
   "metadata": {},
   "outputs": [],
   "source": [
    "min_lbl = label_class_trn.min()\n",
    "label_class_trn -= min_lbl\n",
    "label_class_val -= min_lbl"
   ]
  },
  {
   "cell_type": "code",
   "execution_count": 84,
   "metadata": {},
   "outputs": [],
   "source": [
    "# Number of classes\n",
    "c = int(label_class_trn.max()) + 1"
   ]
  },
  {
   "cell_type": "code",
   "execution_count": 85,
   "metadata": {},
   "outputs": [],
   "source": [
    "# Creating the dataset\n",
    "trn_ds = TextDataset(trn_class, label_class_trn)\n",
    "val_ds = TextDataset(val_class, label_class_val)"
   ]
  },
  {
   "cell_type": "markdown",
   "metadata": {},
   "source": [
    "Below SortishSampler is sorting the text by the size of each document. This is so the padding within each text document is somewhat similar in a batch."
   ]
  },
  {
   "cell_type": "code",
   "execution_count": 86,
   "metadata": {},
   "outputs": [],
   "source": [
    "trn_samp = SortishSampler(trn_ds, key = lambda x: len(trn_class[x]), bs=bs//2)\n",
    "val_samp = SortishSampler(val_ds, key = lambda x: len(val_class[x]), bs=bs)"
   ]
  },
  {
   "cell_type": "code",
   "execution_count": 87,
   "metadata": {},
   "outputs": [],
   "source": [
    "trn_dl = DataLoader(trn_ds, bs//2, transpose=True, num_workers=1, pad_idx=1)\n",
    "val_dl = DataLoader(val_ds, bs, transpose=True, num_workers=1, pad_idx=1)"
   ]
  },
  {
   "cell_type": "code",
   "execution_count": 88,
   "metadata": {},
   "outputs": [],
   "source": [
    "md = ModelData(PATH, trn_dl, val_dl)"
   ]
  },
  {
   "cell_type": "code",
   "execution_count": 89,
   "metadata": {},
   "outputs": [],
   "source": [
    "dps = np.array([0.4, 0.5, 0.05, 0.3, 0.1])"
   ]
  },
  {
   "cell_type": "code",
   "execution_count": 90,
   "metadata": {},
   "outputs": [],
   "source": [
    "m = get_rnn_classifier(bptt, 20*70, c, vs, emb_sz=em_sz, n_hid=nh, n_layers=nl, pad_token=1,\n",
    "          layers=[em_sz*3, 50, c], drops=[dps[4], 0.1],\n",
    "          dropouti=dps[0], wdrop=dps[1], dropoute=dps[2], dropouth=dps[3])"
   ]
  },
  {
   "cell_type": "code",
   "execution_count": 91,
   "metadata": {},
   "outputs": [],
   "source": [
    "opt_fn = partial(optim.Adam, betas=(0.7, 0.99))"
   ]
  },
  {
   "cell_type": "code",
   "execution_count": 92,
   "metadata": {},
   "outputs": [],
   "source": [
    "learn = RNN_Learner(md, TextModel(to_gpu(m)), opt_fn=opt_fn)"
   ]
  },
  {
   "cell_type": "code",
   "execution_count": 93,
   "metadata": {},
   "outputs": [],
   "source": [
    "learn.reg_fn = partial(seq2seq_reg, alpha=2, beta=1)\n",
    "learn.clip = .25\n",
    "learn.metrics = [accuracy]"
   ]
  },
  {
   "cell_type": "code",
   "execution_count": 94,
   "metadata": {},
   "outputs": [],
   "source": [
    "lrs=np.array([1e-4,1e-4,1e-4,1e-3,1e-2])\n",
    "wd = 1e-7"
   ]
  },
  {
   "cell_type": "markdown",
   "metadata": {},
   "source": [
    "Loading in the encoder from the finetuned language model."
   ]
  },
  {
   "cell_type": "code",
   "execution_count": 95,
   "metadata": {},
   "outputs": [],
   "source": [
    "learn.load_encoder('lm1_enc')"
   ]
  },
  {
   "cell_type": "code",
   "execution_count": 96,
   "metadata": {},
   "outputs": [],
   "source": [
    "learn.freeze_to(-1)"
   ]
  },
  {
   "cell_type": "code",
   "execution_count": 98,
   "metadata": {},
   "outputs": [
    {
     "data": {
      "application/vnd.jupyter.widget-view+json": {
       "model_id": "eba84196ae1c4dd08346d44a1c4b7a57",
       "version_major": 2,
       "version_minor": 0
      },
      "text/plain": [
       "HBox(children=(IntProgress(value=0, description='Epoch', max=1), HTML(value='')))"
      ]
     },
     "metadata": {},
     "output_type": "display_data"
    },
    {
     "name": "stdout",
     "output_type": "stream",
     "text": [
      " 87%|███████████████████████████████████████████████████████████▊         | 143/165 [00:11<00:01, 14.47it/s, loss=2.55]"
     ]
    }
   ],
   "source": [
    "learn.lr_find(lrs/1000)"
   ]
  },
  {
   "cell_type": "code",
   "execution_count": 99,
   "metadata": {},
   "outputs": [
    {
     "data": {
      "image/png": "[encoded data removed]",
      "text/plain": [
       "<Figure size 432x288 with 1 Axes>"
      ]
     },
     "metadata": {
      "needs_background": "light"
     },
     "output_type": "display_data"
    }
   ],
   "source": [
    "learn.sched.plot()"
   ]
  },
  {
   "cell_type": "code",
   "execution_count": 100,
   "metadata": {},
   "outputs": [
    {
     "data": {
      "application/vnd.jupyter.widget-view+json": {
       "model_id": "206fe17108f9494eb34460ad30feff86",
       "version_major": 2,
       "version_minor": 0
      },
      "text/plain": [
       "HBox(children=(IntProgress(value=0, description='Epoch', max=1), HTML(value='')))"
      ]
     },
     "metadata": {},
     "output_type": "display_data"
    },
    {
     "name": "stdout",
     "output_type": "stream",
     "text": [
      "epoch      trn_loss   val_loss   accuracy                                                                              \n",
      "    0      0.686049   0.666904   0.572727  \n"
     ]
    },
    {
     "data": {
      "text/plain": [
       "[0.6669035174629905, 0.5727272868156433]"
      ]
     },
     "execution_count": 100,
     "metadata": {},
     "output_type": "execute_result"
    }
   ],
   "source": [
    "learn.fit(lrs, 1, wds=wd, cycle_len=1, use_clr=(8,3))"
   ]
  },
  {
   "cell_type": "code",
   "execution_count": 101,
   "metadata": {},
   "outputs": [],
   "source": [
    "learn.freeze_to(-2)"
   ]
  },
  {
   "cell_type": "code",
   "execution_count": 102,
   "metadata": {},
   "outputs": [
    {
     "data": {
      "application/vnd.jupyter.widget-view+json": {
       "model_id": "30fb417d025b4bc4bd3c37378bcfbaa8",
       "version_major": 2,
       "version_minor": 0
      },
      "text/plain": [
       "HBox(children=(IntProgress(value=0, description='Epoch', max=1), HTML(value='')))"
      ]
     },
     "metadata": {},
     "output_type": "display_data"
    },
    {
     "name": "stdout",
     "output_type": "stream",
     "text": [
      "epoch      trn_loss   val_loss   accuracy                                                                              \n",
      "    0      0.671366   0.664654   0.565909  \n"
     ]
    },
    {
     "data": {
      "text/plain": [
       "[0.6646540663459084, 0.5659091114997864]"
      ]
     },
     "execution_count": 102,
     "metadata": {},
     "output_type": "execute_result"
    }
   ],
   "source": [
    "learn.fit(lrs, 1, wds=wd, cycle_len=1, use_clr=(8,3))"
   ]
  },
  {
   "cell_type": "code",
   "execution_count": 103,
   "metadata": {},
   "outputs": [],
   "source": [
    "learn.unfreeze()"
   ]
  },
  {
   "cell_type": "code",
   "execution_count": 104,
   "metadata": {},
   "outputs": [
    {
     "data": {
      "application/vnd.jupyter.widget-view+json": {
       "model_id": "b15331c52d234802b163d50b2289b012",
       "version_major": 2,
       "version_minor": 0
      },
      "text/plain": [
       "HBox(children=(IntProgress(value=0, description='Epoch', max=14), HTML(value='')))"
      ]
     },
     "metadata": {},
     "output_type": "display_data"
    },
    {
     "name": "stdout",
     "output_type": "stream",
     "text": [
      "epoch      trn_loss   val_loss   accuracy                                                                              \n",
      "    0      0.65184    0.682121   0.559091  \n",
      "    1      0.657402   0.61176    0.631818                                                                              \n",
      "    2      0.631534   0.611522   0.661364                                                                              \n",
      "    3      0.605533   0.58867    0.659091                                                                              \n",
      "    4      0.574045   0.579837   0.679545                                                                              \n",
      "    5      0.559845   0.563656   0.686364                                                                              \n",
      "    6      0.545252   0.561375   0.713636                                                                              \n",
      "    7      0.52326    0.551624   0.7                                                                                   \n",
      "    8      0.53321    0.543306   0.702273                                                                              \n",
      "    9      0.510317   0.545071   0.697727                                                                              \n",
      "    10     0.503933   0.556272   0.706818                                                                              \n",
      "    11     0.494272   0.54529    0.722727                                                                              \n",
      "    12     0.474343   0.552546   0.713636                                                                              \n",
      "    13     0.483967   0.549268   0.711364                                                                              \n"
     ]
    },
    {
     "data": {
      "text/plain": [
       "[0.5492677753621882, 0.7113636602054942]"
      ]
     },
     "execution_count": 104,
     "metadata": {},
     "output_type": "execute_result"
    }
   ],
   "source": [
    "learn.fit(lrs, 1, wds=wd, cycle_len=14, use_clr=(32,10))"
   ]
  },
  {
   "cell_type": "markdown",
   "metadata": {},
   "source": [
    "# Backwards\n",
    "A way we can even further improve this model is to do everything backwards. There are already pretrained weights with the backwards language model. The below code is almost exactly the same as above except the order of the tokens is backwards!"
   ]
  },
  {
   "cell_type": "markdown",
   "metadata": {},
   "source": [
    "## Wikitext103 conversion\n",
    "We are going to finetune a language model that was already pretrained on a subset of Wikipedia. This pretrained model is publicly available at http://files.fast.ai/models/wt103/\n",
    "The details of the model architecture and training are available in this paper -- [ULMFiT](https://arxiv.org/abs/1801.06146)\n",
    "<br><br> We need to use the same parameteters as the pretrained model"
   ]
  },
  {
   "cell_type": "code",
   "execution_count": 105,
   "metadata": {},
   "outputs": [],
   "source": [
    "# Model parameters\n",
    "em_sz,nh,nl = 400,1150,3 # embedding size, number of hidden activations, number of layers\n",
    "\n",
    "# Path to pretrained langauge model\n",
    "PRE_PATH = PATH/'models'/'wt103'\n",
    "PRE_LM_PATH_BW = PRE_PATH/'bwd_wt103.h5'\n",
    "\n",
    "# Loading in pretrained model weights\n",
    "wgts_bw = torch.load(PRE_LM_PATH, map_location=lambda storage, loc: storage)"
   ]
  },
  {
   "cell_type": "markdown",
   "metadata": {},
   "source": [
    "It's possible that there are tokens within the movie quotation library that are not contained in the Wikipedia vocab. For those tokens we are going to assign the embedding weights to be the average of the Wikipedia embedding weights"
   ]
  },
  {
   "cell_type": "code",
   "execution_count": 106,
   "metadata": {},
   "outputs": [],
   "source": [
    "enc_wgts_bw=to_np(wgts['0.encoder.weight']) # embedding weights\n",
    "row_miss_bw = enc_wgts_bw.mean(0)"
   ]
  },
  {
   "cell_type": "markdown",
   "metadata": {},
   "source": [
    "Loading in the intger-to-string array for the pretrained model and creating a string-to-integer dictionary"
   ]
  },
  {
   "cell_type": "code",
   "execution_count": 107,
   "metadata": {},
   "outputs": [],
   "source": [
    "itos2_bw = pickle.load((PRE_PATH/'itos_wt103.pkl').open('rb'))\n",
    "\n",
    "# Using collection dictionary so can later assign movie tokens that are not found in the Wikipedia vocab\n",
    "stoi2_bw = collections.defaultdict(lambda: -1, {v:k for k,v in enumerate(itos2_bw)}) "
   ]
  },
  {
   "cell_type": "markdown",
   "metadata": {},
   "source": [
    "Creating array in which the new weights will be assigned. This is size vocab size by embedding size"
   ]
  },
  {
   "cell_type": "code",
   "execution_count": 108,
   "metadata": {},
   "outputs": [],
   "source": [
    "new_w_bw = np.zeros((vs,em_sz), dtype=np.float32)"
   ]
  },
  {
   "cell_type": "markdown",
   "metadata": {},
   "source": [
    "Getting embedding weights from Wikipedia model. Again, missing rows get the average"
   ]
  },
  {
   "cell_type": "code",
   "execution_count": 109,
   "metadata": {},
   "outputs": [],
   "source": [
    "itos = pickle.load(open(LM_PATH/'tmp'/'itos.pkl', 'rb'))\n",
    "for i,j in enumerate(itos):\n",
    "    r = stoi2[j]\n",
    "    new_w[i] = enc_wgts[r] if r>0 else row_miss"
   ]
  },
  {
   "cell_type": "markdown",
   "metadata": {},
   "source": [
    "Copying in new embedding weights for our vocab in the embedding encoder and decoder. The embeddings for the encoder and decoder are exactly the same as this has previously been shown to help with training."
   ]
  },
  {
   "cell_type": "code",
   "execution_count": 110,
   "metadata": {},
   "outputs": [],
   "source": [
    "wgts_bw['0.encoder.weight'] = T(new_w_bw)\n",
    "wgts_bw['0.encoder_with_dropout.embed.weight'] = T(np.copy(new_w_bw))\n",
    "wgts_bw['1.decoder.weight'] = T(np.copy(new_w_bw))"
   ]
  },
  {
   "cell_type": "markdown",
   "metadata": {},
   "source": [
    "## Training language model"
   ]
  },
  {
   "cell_type": "markdown",
   "metadata": {},
   "source": [
    "Finally almost ready to start training. Even though we already have a pretrained language model, this model was trained on Wikipedia which may be different from our corpus of text. So we are going to finetune this model on the movie quotes dataset. I actually found that this step did not help improve the classifier accuracy on whether the quote was memorable or not. This is likely because our vocabulary size was very small (see below). But I am including this step for your reference.<br><br>We specify a few parameters below"
   ]
  },
  {
   "cell_type": "code",
   "execution_count": 111,
   "metadata": {},
   "outputs": [],
   "source": [
    "wd = 1e-7 # weight decay\n",
    "bptt = 30 # backpropagation through time; make as large as your memory can handle\n",
    "bs = 52 # batch size\n",
    "opt_fn = partial(optim.Adam, betas=(0.8, 0.99)) # model optimizer"
   ]
  },
  {
   "cell_type": "markdown",
   "metadata": {},
   "source": [
    "Putting data into a data loader"
   ]
  },
  {
   "cell_type": "code",
   "execution_count": 112,
   "metadata": {},
   "outputs": [],
   "source": [
    "trn_lm = np.load(LM_PATH/'tmp'/'trn_ids.npy')\n",
    "val_lm = np.load(LM_PATH/'tmp'/'val_ids.npy')"
   ]
  },
  {
   "cell_type": "code",
   "execution_count": 113,
   "metadata": {},
   "outputs": [],
   "source": [
    "trn_dl_bw = LanguageModelLoader(np.concatenate(trn_lm), bs, bptt, backwards=True)\n",
    "val_dl_bw = LanguageModelLoader(np.concatenate(val_lm), bs, bptt, backwards=True)\n",
    "md_bw = LanguageModelData(PATH, 1, vs, trn_dl_bw, val_dl_bw, bs=bs, bptt=bptt)"
   ]
  },
  {
   "cell_type": "markdown",
   "metadata": {},
   "source": [
    "Creating learner which is the model."
   ]
  },
  {
   "cell_type": "code",
   "execution_count": 114,
   "metadata": {},
   "outputs": [],
   "source": [
    "# I found that this model required a somewhat high amount of dropout, likely because the dataset is small\n",
    "drops = np.array([0.25, 0.1, 0.2, 0.02, 0.15])*2.0\n",
    "learner_bw = md_bw.get_model(opt_fn, em_sz, nh, nl,\n",
    "                      dropouti=drops[0], dropout=drops[1], wdrop=drops[2], dropoute=drops[3], dropouth=drops[4])\n",
    "\n",
    "learner_bw.metrics = [accuracy] # So we can view the accuracy during training\n",
    "learner_bw.freeze_to(-1) # We will first only train the embedding layers\n",
    "learner_bw.model.load_state_dict(wgts_bw) # Loading in pretrained weights"
   ]
  },
  {
   "cell_type": "markdown",
   "metadata": {},
   "source": [
    "Before training, we need to choose the learning rate, so we use the lr_find function"
   ]
  },
  {
   "cell_type": "code",
   "execution_count": 117,
   "metadata": {},
   "outputs": [
    {
     "data": {
      "application/vnd.jupyter.widget-view+json": {
       "model_id": "8784b0ed3b404332843eb769387017a6",
       "version_major": 2,
       "version_minor": 0
      },
      "text/plain": [
       "HBox(children=(IntProgress(value=0, description='Epoch', max=1), HTML(value='')))"
      ]
     },
     "metadata": {},
     "output_type": "display_data"
    },
    {
     "name": "stdout",
     "output_type": "stream",
     "text": [
      "                                                                                                                       \r"
     ]
    }
   ],
   "source": [
    "# Need to run this twice to get it to work for some reason...\n",
    "learner_bw.lr_find()"
   ]
  },
  {
   "cell_type": "code",
   "execution_count": 118,
   "metadata": {},
   "outputs": [
    {
     "data": {
      "image/png": "[encoded data removed]",
      "text/plain": [
       "<Figure size 432x288 with 1 Axes>"
      ]
     },
     "metadata": {
      "needs_background": "light"
     },
     "output_type": "display_data"
    }
   ],
   "source": [
    "learner_bw.sched.plot()"
   ]
  },
  {
   "cell_type": "markdown",
   "metadata": {},
   "source": [
    "We'll choose a learning rate of 1e-2 since the loss is still dropping at this point.<br> Now lets start training!"
   ]
  },
  {
   "cell_type": "code",
   "execution_count": 119,
   "metadata": {},
   "outputs": [
    {
     "data": {
      "application/vnd.jupyter.widget-view+json": {
       "model_id": "0ada2a3db4a8462d971703331fad7f43",
       "version_major": 2,
       "version_minor": 0
      },
      "text/plain": [
       "HBox(children=(IntProgress(value=0, description='Epoch', max=1), HTML(value='')))"
      ]
     },
     "metadata": {},
     "output_type": "display_data"
    },
    {
     "name": "stdout",
     "output_type": "stream",
     "text": [
      "epoch      trn_loss   val_loss   accuracy                                                                              \n",
      "    0      5.212331   4.831603   0.104414  \n"
     ]
    },
    {
     "data": {
      "text/plain": [
       "[4.8316028118133545, 0.10441417060792446]"
      ]
     },
     "execution_count": 119,
     "metadata": {},
     "output_type": "execute_result"
    }
   ],
   "source": [
    "lr = 1e-2\n",
    "learner_bw.fit(lr, 1, wds=wd, use_clr=(32,2), cycle_len=1)"
   ]
  },
  {
   "cell_type": "markdown",
   "metadata": {},
   "source": [
    "Just to note we are using slanted triangular learning rates (see the [ULMFiT paper](https://arxiv.org/abs/1801.06146) for an explanation), which is specified with 'use_clr'."
   ]
  },
  {
   "cell_type": "code",
   "execution_count": 120,
   "metadata": {},
   "outputs": [
    {
     "data": {
      "image/png": "[encoded data removed]",
      "text/plain": [
       "<Figure size 432x288 with 1 Axes>"
      ]
     },
     "metadata": {
      "needs_background": "light"
     },
     "output_type": "display_data"
    }
   ],
   "source": [
    "learner_bw.sched.plot_lr()"
   ]
  },
  {
   "cell_type": "code",
   "execution_count": 121,
   "metadata": {},
   "outputs": [],
   "source": [
    "# Saving model\n",
    "learner_bw.save('lm0_bw')"
   ]
  },
  {
   "cell_type": "code",
   "execution_count": 123,
   "metadata": {},
   "outputs": [],
   "source": [
    "# Loading model\n",
    "learner_bw.load('lm0_bw')"
   ]
  },
  {
   "cell_type": "markdown",
   "metadata": {},
   "source": [
    "Now lets unfreeze all of the layers"
   ]
  },
  {
   "cell_type": "code",
   "execution_count": 122,
   "metadata": {},
   "outputs": [],
   "source": [
    "learner_bw.unfreeze()"
   ]
  },
  {
   "cell_type": "code",
   "execution_count": 124,
   "metadata": {},
   "outputs": [
    {
     "data": {
      "application/vnd.jupyter.widget-view+json": {
       "model_id": "a035621acfcb469db30dc98e80331352",
       "version_major": 2,
       "version_minor": 0
      },
      "text/plain": [
       "HBox(children=(IntProgress(value=0, description='Epoch', max=1), HTML(value='')))"
      ]
     },
     "metadata": {},
     "output_type": "display_data"
    },
    {
     "name": "stdout",
     "output_type": "stream",
     "text": [
      "                                                                                                                       \r"
     ]
    }
   ],
   "source": [
    "learner_bw.lr_find()"
   ]
  },
  {
   "cell_type": "code",
   "execution_count": 125,
   "metadata": {},
   "outputs": [
    {
     "data": {
      "image/png": "[encoded data removed]",
      "text/plain": [
       "<Figure size 432x288 with 1 Axes>"
      ]
     },
     "metadata": {
      "needs_background": "light"
     },
     "output_type": "display_data"
    }
   ],
   "source": [
    "learner_bw.sched.plot()"
   ]
  },
  {
   "cell_type": "code",
   "execution_count": 126,
   "metadata": {},
   "outputs": [
    {
     "data": {
      "application/vnd.jupyter.widget-view+json": {
       "model_id": "93a8eeb7d50f4872bf23e8df67ffccc7",
       "version_major": 2,
       "version_minor": 0
      },
      "text/plain": [
       "HBox(children=(IntProgress(value=0, description='Epoch', max=15), HTML(value='')))"
      ]
     },
     "metadata": {},
     "output_type": "display_data"
    },
    {
     "name": "stdout",
     "output_type": "stream",
     "text": [
      "epoch      trn_loss   val_loss   accuracy                                                                              \n",
      "    0      4.916423   4.795455   0.108168  \n",
      "    1      4.83306    4.308701   0.300894                                                                              \n",
      "    2      4.437049   3.960989   0.335209                                                                              \n",
      "    3      4.183606   3.84206    0.335895                                                                              \n",
      "    4      4.024445   3.74482    0.342983                                                                              \n",
      "    5      3.909677   3.688813   0.342764                                                                              \n",
      "    6      3.837859   3.631556   0.353456                                                                              \n",
      "    7      3.772087   3.604287   0.356289                                                                              \n",
      "    8      3.722062   3.577369   0.358983                                                                              \n",
      "    9      3.676442   3.535925   0.363448                                                                              \n",
      "    10     3.643331   3.549029   0.356519                                                                              \n",
      "    11     3.614795   3.493373   0.367346                                                                              \n",
      "    12     3.60317    3.493812   0.368852                                                                              \n",
      "    13     3.590148   3.481959   0.368711                                                                              \n",
      "    14     3.566674   3.484426   0.367195                                                                              \n"
     ]
    },
    {
     "data": {
      "text/plain": [
       "[3.4844263195991516, 0.3671947941184044]"
      ]
     },
     "execution_count": 126,
     "metadata": {},
     "output_type": "execute_result"
    }
   ],
   "source": [
    "# Making the learning rate a little bit smaller\n",
    "learner_bw.fit(lr/10, 1, wds=wd, use_clr=(20,10), cycle_len=15)"
   ]
  },
  {
   "cell_type": "code",
   "execution_count": 128,
   "metadata": {},
   "outputs": [
    {
     "data": {
      "image/png": "[encoded data removed]",
      "text/plain": [
       "<Figure size 432x288 with 1 Axes>"
      ]
     },
     "metadata": {
      "needs_background": "light"
     },
     "output_type": "display_data"
    }
   ],
   "source": [
    "learner_bw.sched.plot_lr()"
   ]
  },
  {
   "cell_type": "code",
   "execution_count": 127,
   "metadata": {},
   "outputs": [
    {
     "data": {
      "application/vnd.jupyter.widget-view+json": {
       "model_id": "c849f829095c4f30bb219818c3c24deb",
       "version_major": 2,
       "version_minor": 0
      },
      "text/plain": [
       "HBox(children=(IntProgress(value=0, description='Epoch', max=10), HTML(value='')))"
      ]
     },
     "metadata": {},
     "output_type": "display_data"
    },
    {
     "name": "stdout",
     "output_type": "stream",
     "text": [
      "epoch      trn_loss   val_loss   accuracy                                                                              \n",
      "    0      3.573921   3.480783   0.367463  \n",
      "    1      3.551531   3.480586   0.364721                                                                              \n",
      "    2      3.537192   3.409223   0.374968                                                                              \n",
      "    3      3.488168   3.390296   0.379337                                                                              \n",
      "    4      3.464058   3.381378   0.379133                                                                              \n",
      "    5      3.434512   3.377196   0.379705                                                                              \n",
      "    6      3.414784   3.35917    0.384252                                                                              \n",
      "    7      3.398761   3.346018   0.384788                                                                              \n",
      "    8      3.387458   3.35621    0.383649                                                                              \n",
      "    9      3.36842    3.348925   0.382943                                                                              \n"
     ]
    },
    {
     "data": {
      "text/plain": [
       "[3.3489245176315308, 0.3829425573348999]"
      ]
     },
     "execution_count": 127,
     "metadata": {},
     "output_type": "execute_result"
    }
   ],
   "source": [
    "learner_bw.fit(lr/10, 1, wds=wd, use_clr=(20,10), cycle_len=10)"
   ]
  },
  {
   "cell_type": "code",
   "execution_count": 130,
   "metadata": {},
   "outputs": [],
   "source": [
    "learner_bw.save('lm1_bw')"
   ]
  },
  {
   "cell_type": "code",
   "execution_count": 131,
   "metadata": {},
   "outputs": [],
   "source": [
    "learner_bw.save_encoder('lm1_enc_bw')"
   ]
  },
  {
   "cell_type": "code",
   "execution_count": 129,
   "metadata": {},
   "outputs": [],
   "source": [
    "learner_bw.load('lm1_bw')"
   ]
  },
  {
   "cell_type": "markdown",
   "metadata": {},
   "source": [
    "## Training the classifier"
   ]
  },
  {
   "cell_type": "code",
   "execution_count": 132,
   "metadata": {},
   "outputs": [],
   "source": [
    "# Loading in the ids and corresponding labels\n",
    "trn_class = np.load(CLASS_PATH/'tmp'/'trn_ids.npy')\n",
    "val_class = np.load(CLASS_PATH/'tmp'/'val_ids.npy')\n",
    "\n",
    "label_class_trn = np.squeeze(np.load(CLASS_PATH/'tmp'/'label_class_trn.npy'))\n",
    "label_class_val = np.squeeze(np.load(CLASS_PATH/'tmp'/'label_class_val.npy'))"
   ]
  },
  {
   "cell_type": "code",
   "execution_count": 133,
   "metadata": {},
   "outputs": [],
   "source": [
    "wd = 1e-7\n",
    "bptt = 30\n",
    "bs = 48\n",
    "opt_fn = partial(optim.Adam, betas=(0.8, 0.99))\n",
    "vs = len(itos)\n",
    "\n",
    "# Model parameters\n",
    "em_sz,nh,nl = 400,1150,3"
   ]
  },
  {
   "cell_type": "code",
   "execution_count": 134,
   "metadata": {},
   "outputs": [],
   "source": [
    "min_lbl = label_class_trn.min()\n",
    "label_class_trn -= min_lbl\n",
    "label_class_val -= min_lbl"
   ]
  },
  {
   "cell_type": "code",
   "execution_count": 135,
   "metadata": {},
   "outputs": [],
   "source": [
    "# Number of classes\n",
    "c = int(label_class_trn.max()) + 1"
   ]
  },
  {
   "cell_type": "code",
   "execution_count": 136,
   "metadata": {},
   "outputs": [],
   "source": [
    "trn_ds_bw = TextDataset(trn_class, label_class_trn, backwards = True)\n",
    "val_ds_bw = TextDataset(val_class, label_class_val, backwards = True)"
   ]
  },
  {
   "cell_type": "code",
   "execution_count": 137,
   "metadata": {},
   "outputs": [],
   "source": [
    "trn_samp_bw = SortishSampler(trn_ds, key = lambda x: len(trn_class[x]), bs=bs//2)\n",
    "val_samp_bw = SortishSampler(val_ds, key = lambda x: len(val_class[x]), bs=bs)"
   ]
  },
  {
   "cell_type": "code",
   "execution_count": 138,
   "metadata": {},
   "outputs": [],
   "source": [
    "trn_dl_bw = DataLoader(trn_ds_bw, bs//2, transpose=True, num_workers=1, pad_idx=1)\n",
    "val_dl_bw = DataLoader(val_ds_bw, bs, transpose=True, num_workers=1, pad_idx=1)"
   ]
  },
  {
   "cell_type": "code",
   "execution_count": 139,
   "metadata": {},
   "outputs": [],
   "source": [
    "md_bw = ModelData(PATH, trn_dl_bw, val_dl_bw)"
   ]
  },
  {
   "cell_type": "code",
   "execution_count": 140,
   "metadata": {},
   "outputs": [],
   "source": [
    "dps = np.array([0.4, 0.5, 0.05, 0.3, 0.1])"
   ]
  },
  {
   "cell_type": "code",
   "execution_count": 141,
   "metadata": {},
   "outputs": [],
   "source": [
    "m_bw = get_rnn_classifier(bptt, 20*70, c, vs, emb_sz=em_sz, n_hid=nh, n_layers=nl, pad_token=1,\n",
    "          layers=[em_sz*3, 50, c], drops=[dps[4], 0.1],\n",
    "          dropouti=dps[0], wdrop=dps[1], dropoute=dps[2], dropouth=dps[3])"
   ]
  },
  {
   "cell_type": "code",
   "execution_count": 142,
   "metadata": {},
   "outputs": [],
   "source": [
    "opt_fn = partial(optim.Adam, betas=(0.7, 0.99))"
   ]
  },
  {
   "cell_type": "code",
   "execution_count": 143,
   "metadata": {},
   "outputs": [],
   "source": [
    "learn_bw = RNN_Learner(md_bw, TextModel(to_gpu(m_bw)), opt_fn=opt_fn)"
   ]
  },
  {
   "cell_type": "code",
   "execution_count": 144,
   "metadata": {},
   "outputs": [],
   "source": [
    "learn_bw.reg_fn = partial(seq2seq_reg, alpha=2, beta=1)\n",
    "learn_bw.clip = .25\n",
    "learn_bw.metrics = [accuracy]"
   ]
  },
  {
   "cell_type": "code",
   "execution_count": 145,
   "metadata": {},
   "outputs": [],
   "source": [
    "lrs=np.array([1e-4,1e-4,1e-4,1e-3,1e-2])\n",
    "wd = 1e-7"
   ]
  },
  {
   "cell_type": "code",
   "execution_count": 146,
   "metadata": {},
   "outputs": [],
   "source": [
    "learn_bw.load_encoder('lm1_enc_bw')"
   ]
  },
  {
   "cell_type": "code",
   "execution_count": 147,
   "metadata": {},
   "outputs": [],
   "source": [
    "learn_bw.freeze_to(-1)"
   ]
  },
  {
   "cell_type": "code",
   "execution_count": 149,
   "metadata": {},
   "outputs": [
    {
     "data": {
      "application/vnd.jupyter.widget-view+json": {
       "model_id": "1bab37b477a94d4fbc0a9144812bc138",
       "version_major": 2,
       "version_minor": 0
      },
      "text/plain": [
       "HBox(children=(IntProgress(value=0, description='Epoch', max=1), HTML(value='')))"
      ]
     },
     "metadata": {},
     "output_type": "display_data"
    },
    {
     "name": "stdout",
     "output_type": "stream",
     "text": [
      "                                                                                                                       \r"
     ]
    }
   ],
   "source": [
    "learn_bw.lr_find(lrs/1000)"
   ]
  },
  {
   "cell_type": "code",
   "execution_count": 150,
   "metadata": {},
   "outputs": [
    {
     "data": {
      "image/png": "[encoded data removed]",
      "text/plain": [
       "<Figure size 432x288 with 1 Axes>"
      ]
     },
     "metadata": {
      "needs_background": "light"
     },
     "output_type": "display_data"
    }
   ],
   "source": [
    "learn_bw.sched.plot()"
   ]
  },
  {
   "cell_type": "code",
   "execution_count": 151,
   "metadata": {},
   "outputs": [
    {
     "data": {
      "application/vnd.jupyter.widget-view+json": {
       "model_id": "df835dec451d41ad977c2c155e14395b",
       "version_major": 2,
       "version_minor": 0
      },
      "text/plain": [
       "HBox(children=(IntProgress(value=0, description='Epoch', max=1), HTML(value='')))"
      ]
     },
     "metadata": {},
     "output_type": "display_data"
    },
    {
     "name": "stdout",
     "output_type": "stream",
     "text": [
      "epoch      trn_loss   val_loss   accuracy                                                                              \n",
      "    0      0.688493   0.664344   0.586364  \n"
     ]
    },
    {
     "data": {
      "text/plain": [
       "[0.664344357360493, 0.5863636612892151]"
      ]
     },
     "execution_count": 151,
     "metadata": {},
     "output_type": "execute_result"
    }
   ],
   "source": [
    "learn_bw.fit(lrs, 1, wds=wd, cycle_len=1, use_clr=(8,3))"
   ]
  },
  {
   "cell_type": "code",
   "execution_count": 152,
   "metadata": {},
   "outputs": [],
   "source": [
    "learn_bw.freeze_to(-2)"
   ]
  },
  {
   "cell_type": "code",
   "execution_count": 153,
   "metadata": {},
   "outputs": [
    {
     "data": {
      "application/vnd.jupyter.widget-view+json": {
       "model_id": "6b230fdfe856486b9679ad1b29143c8b",
       "version_major": 2,
       "version_minor": 0
      },
      "text/plain": [
       "HBox(children=(IntProgress(value=0, description='Epoch', max=1), HTML(value='')))"
      ]
     },
     "metadata": {},
     "output_type": "display_data"
    },
    {
     "name": "stdout",
     "output_type": "stream",
     "text": [
      "epoch      trn_loss   val_loss   accuracy                                                                              \n",
      "    0      0.68213    0.665676   0.540909  \n"
     ]
    },
    {
     "data": {
      "text/plain": [
       "[0.6656763835386796, 0.5409091006625782]"
      ]
     },
     "execution_count": 153,
     "metadata": {},
     "output_type": "execute_result"
    }
   ],
   "source": [
    "learn_bw.fit(lrs, 1, wds=wd, cycle_len=1, use_clr=(8,3))"
   ]
  },
  {
   "cell_type": "code",
   "execution_count": 154,
   "metadata": {},
   "outputs": [],
   "source": [
    "learn_bw.unfreeze()"
   ]
  },
  {
   "cell_type": "code",
   "execution_count": 155,
   "metadata": {},
   "outputs": [
    {
     "data": {
      "application/vnd.jupyter.widget-view+json": {
       "model_id": "a8fe1cda70ce4e3b8ae67b9bea4b707f",
       "version_major": 2,
       "version_minor": 0
      },
      "text/plain": [
       "HBox(children=(IntProgress(value=0, description='Epoch', max=14), HTML(value='')))"
      ]
     },
     "metadata": {},
     "output_type": "display_data"
    },
    {
     "name": "stdout",
     "output_type": "stream",
     "text": [
      "epoch      trn_loss   val_loss   accuracy                                                                              \n",
      "    0      0.668368   0.642631   0.593182  \n",
      "    1      0.66532    0.634599   0.602273                                                                              \n",
      "    2      0.634799   0.606316   0.638636                                                                              \n",
      "    3      0.616781   0.585194   0.652273                                                                              \n",
      "    4      0.596538   0.579567   0.65                                                                                  \n",
      "    5      0.584889   0.569915   0.65                                                                                  \n",
      "    6      0.574505   0.572916   0.665909                                                                              \n",
      "    7      0.578976   0.565534   0.675                                                                                 \n",
      "    8      0.556831   0.573252   0.668182                                                                              \n",
      "    9      0.563382   0.565799   0.672727                                                                              \n",
      "    10     0.564718   0.565971   0.670455                                                                              \n",
      "    11     0.557563   0.570886   0.675                                                                                 \n",
      "    12     0.548255   0.569638   0.672727                                                                              \n",
      "    13     0.55485    0.570294   0.675                                                                                 \n"
     ]
    },
    {
     "data": {
      "text/plain": [
       "[0.5702939038926905, 0.6750000151720914]"
      ]
     },
     "execution_count": 155,
     "metadata": {},
     "output_type": "execute_result"
    }
   ],
   "source": [
    "learn_bw.fit(lrs, 1, wds=wd, cycle_len=14, use_clr=(32,10))"
   ]
  },
  {
   "cell_type": "markdown",
   "metadata": {},
   "source": [
    "# Final Model Prediction\n",
    "Now that we've trained the classifier on both the forward and backward model, lets see the final prediciton accuracy using both models. It turns out that this made our model prediction worse, but this is worth checking with your own datasets"
   ]
  },
  {
   "cell_type": "code",
   "execution_count": 156,
   "metadata": {},
   "outputs": [],
   "source": [
    "# Predictions from forward model\n",
    "preds_fw = learn.predict_dl(learn.data.val_dl)"
   ]
  },
  {
   "cell_type": "code",
   "execution_count": 157,
   "metadata": {},
   "outputs": [],
   "source": [
    "# Predictions from backward model\n",
    "preds_bw = learn_bw.predict_dl(learn_bw.data.val_dl)"
   ]
  },
  {
   "cell_type": "code",
   "execution_count": 158,
   "metadata": {},
   "outputs": [],
   "source": [
    "# Concatenate predictions and find max\n",
    "preds_concat = np.concatenate((preds_fw, preds_bw),axis=1)\n",
    "preds_concat_max = np.argmax(preds_concat, axis=1)\n",
    "preds_concat_max[preds_concat_max == 2] = 0 # 2 is actually 0\n",
    "preds_concat_max[preds_concat_max == 3] = 1 # 3 is actually 1"
   ]
  },
  {
   "cell_type": "code",
   "execution_count": 159,
   "metadata": {
    "scrolled": true
   },
   "outputs": [
    {
     "data": {
      "text/plain": [
       "0.7090909090909091"
      ]
     },
     "execution_count": 159,
     "metadata": {},
     "output_type": "execute_result"
    }
   ],
   "source": [
    "np.mean(preds_concat_max == learn.data.val_ds[:][1])"
   ]
  },
  {
   "cell_type": "code",
   "execution_count": null,
   "metadata": {},
   "outputs": [],
   "source": []
  }
 ],
 "metadata": {
  "kernelspec": {
   "display_name": "Python [default]",
   "language": "python",
   "name": "python3"
  },
  "language_info": {
   "codemirror_mode": {
    "name": "ipython",
    "version": 3
   },
   "file_extension": ".py",
   "mimetype": "text/x-python",
   "name": "python",
   "nbconvert_exporter": "python",
   "pygments_lexer": "ipython3",
   "version": "3.6.6"
  }
 },
 "nbformat": 4,
 "nbformat_minor": 2
}
